{
 "cells": [
  {
   "cell_type": "markdown",
   "metadata": {},
   "source": [
    "\n",
    "<div style=\"text-align: center;\">\n",
    "  <img src=\"https://github.com/Hack-io-Data/Imagenes/blob/main/01-LogosHackio/logo_celeste@4x.png?raw=true\" alt=\"esquema\" />\n",
    "</div>\n"
   ]
  },
  {
   "cell_type": "markdown",
   "metadata": {},
   "source": [
    "# Laboratorio de Python: break(), pass(), continue()"
   ]
  },
  {
   "cell_type": "markdown",
   "metadata": {},
   "source": [
    "## Ejercicio 1: Validación de datos numéricos. \n",
    "\n",
    "Escribe un bucle que lea una lista de números y detenga la ejecución si encuentra un valor negativo. Muestra un mensaje indicando el número negativo encontrado.\n"
   ]
  },
  {
   "cell_type": "code",
   "execution_count": 11,
   "metadata": {},
   "outputs": [
    {
     "name": "stdout",
     "output_type": "stream",
     "text": [
      "1\n",
      "2\n",
      "3\n",
      "4\n",
      "-1\n"
     ]
    }
   ],
   "source": [
    "lista = [1,2,3,4,-1,5,6]\n",
    "\n",
    "for i in range(len(lista)):\n",
    "    print(lista[i])\n",
    "    if lista[i] < 0:\n",
    "        break"
   ]
  },
  {
   "cell_type": "markdown",
   "metadata": {},
   "source": [
    "\n",
    "## Ejercicio 2: Filtrado de datos\n",
    "\n",
    "Escribe un bucle que imprima los números de una lista, pero que omita los números pares.\n"
   ]
  },
  {
   "cell_type": "code",
   "execution_count": 12,
   "metadata": {},
   "outputs": [
    {
     "name": "stdout",
     "output_type": "stream",
     "text": [
      "1\n",
      "3\n",
      "-1\n",
      "5\n"
     ]
    }
   ],
   "source": [
    "lista = [1,2,3,4,-1,5,6]\n",
    "\n",
    "for i in range(len(lista)):\n",
    "    if lista[i] % 2 == 1:\n",
    "        print(lista[i])\n",
    "    else:\n",
    "        continue"
   ]
  },
  {
   "cell_type": "markdown",
   "metadata": {},
   "source": [
    "## Ejercicio 3: Búsqueda de un valor\n",
    "\n",
    "Escribe un programa que busque un valor específico en una lista y detenga la búsqueda cuando lo encuentre. Si se encuentra, muestra un mensaje.\n"
   ]
  },
  {
   "cell_type": "code",
   "execution_count": 18,
   "metadata": {},
   "outputs": [],
   "source": [
    "def busqueda(lista, num):\n",
    "    flag = 0\n",
    "\n",
    "    for i in range(len(lista)):\n",
    "        if num == lista[i]:\n",
    "            flag = 1\n",
    "            print(\"ENCONTRADO!\")\n",
    "            break\n",
    "        else:\n",
    "            print(\"Seguimos buscando\")\n",
    "            \n",
    "    if flag == 0:\n",
    "        print(\"El número no se encuentra en la lista\")"
   ]
  },
  {
   "cell_type": "code",
   "execution_count": 19,
   "metadata": {},
   "outputs": [
    {
     "name": "stdout",
     "output_type": "stream",
     "text": [
      "Seguimos buscando\n",
      "ENCONTRADO!\n"
     ]
    }
   ],
   "source": [
    "busqueda([1,2,3,4], 2)"
   ]
  },
  {
   "cell_type": "markdown",
   "metadata": {},
   "source": [
    "## Ejercicio 4: Estructura de código incompleto\n",
    "\n",
    "Define una función que aún no tenga lógica implementada, pero que se pueda ejecutar sin errores utilizando `pass`."
   ]
  },
  {
   "cell_type": "code",
   "execution_count": 25,
   "metadata": {},
   "outputs": [],
   "source": [
    "def funcion_sin_logica(lista):\n",
    "    for i in range(len(lista)):\n",
    "        if i%2 == 0: #Quiero coger los elemntos pares de la lista pero no se aun q hacer con los impares\n",
    "            print(lista[i])\n",
    "        else:\n",
    "            pass"
   ]
  },
  {
   "cell_type": "code",
   "execution_count": 26,
   "metadata": {},
   "outputs": [
    {
     "name": "stdout",
     "output_type": "stream",
     "text": [
      "a\n",
      "e\n",
      "g\n"
     ]
    }
   ],
   "source": [
    "funcion_sin_logica(['a',2,'e',4,'g',6])"
   ]
  },
  {
   "cell_type": "markdown",
   "metadata": {},
   "source": [
    "## Ejercicio 5: Validación condicional\n",
    "\n",
    "Escribe un bucle que verifique una lista de nombres. Si encuentra un nombre vacío (cadena vacía), salta esa iteración y continúa con los demás nombres.\n"
   ]
  },
  {
   "cell_type": "code",
   "execution_count": 27,
   "metadata": {},
   "outputs": [
    {
     "name": "stdout",
     "output_type": "stream",
     "text": [
      "Elena\n",
      "Cris\n",
      "Pablo\n"
     ]
    }
   ],
   "source": [
    "nombres = ['Elena', 'Cris', '', 'Pablo']\n",
    "\n",
    "for i in range(len(nombres)):\n",
    "    if nombres[i] != '':\n",
    "        print(nombres[i])\n",
    "    else:\n",
    "        continue"
   ]
  },
  {
   "cell_type": "markdown",
   "metadata": {},
   "source": [
    "## Ejercicio 6: Búsqueda de claves en un diccionario\n",
    "\n",
    "Escribe un programa que recorra un diccionario y detenga la búsqueda si encuentra una clave específica pasada por el usuario.\n"
   ]
  },
  {
   "cell_type": "code",
   "execution_count": 28,
   "metadata": {},
   "outputs": [],
   "source": [
    "def recorre_dict(diccionario, clave):\n",
    "    for key in diccionario.keys():\n",
    "        if key == clave:\n",
    "            print(\"Clave encontrada!\")\n",
    "            break\n",
    "        else:\n",
    "            print(\"Seguimos buscando\")"
   ]
  },
  {
   "cell_type": "code",
   "execution_count": 30,
   "metadata": {},
   "outputs": [
    {
     "name": "stdout",
     "output_type": "stream",
     "text": [
      "Seguimos buscando\n",
      "Seguimos buscando\n",
      "Clave encontrada!\n"
     ]
    }
   ],
   "source": [
    "alumno = {\n",
    "    \"nombre\": \"Laura\",\n",
    "    \"apellido\": \"Cano\",\n",
    "    \"edad\": 22,\n",
    "    \"carrera\": \"Biología\"\n",
    "}\n",
    "\n",
    "recorre_dict(alumno, \"edad\")"
   ]
  },
  {
   "cell_type": "markdown",
   "metadata": {},
   "source": [
    "## Ejercicio 7: Bucle con múltiples excepciones\n",
    "\n",
    "Escribe un bucle que procese una lista de operaciones matemáticas, omitiendo las operaciones que intenten dividir por cero.\n"
   ]
  },
  {
   "cell_type": "code",
   "execution_count": 49,
   "metadata": {},
   "outputs": [
    {
     "name": "stdout",
     "output_type": "stream",
     "text": [
      "['suma', ' division', ' resta']\n",
      "4.0\n",
      "4.0\n"
     ]
    }
   ],
   "source": [
    "try: \n",
    "    num1 = float(input(\"Introduzca un número\"))\n",
    "    num2 = float(input(\"Introduzca otro número\"))\n",
    "    op = input(\"Escriba que operaciones quiere realizar separándolas por comas: suma, resta multiplicacion, division\")\n",
    "    op = op.split(',')\n",
    "    print(op)\n",
    "\n",
    "    for operacion in op: \n",
    "        if operacion == 'suma' or operacion == ' suma':\n",
    "            print(num1+num2)\n",
    "\n",
    "        elif operacion == 'resta' or operacion == ' resta':\n",
    "            print(num1-num2)\n",
    "\n",
    "        elif operacion == 'multiplicacion' or operacion == ' multiplicacion':\n",
    "            print(num1*num2)\n",
    "\n",
    "        elif operacion == 'division' or operacion == ' division':\n",
    "            if num2 == 0:\n",
    "                continue\n",
    "            else:\n",
    "                print(num1*num2)\n",
    "\n",
    "        else: print(\"Operación no identificada\")\n",
    "\n",
    "except ValueError:\n",
    "    print(\"Introduzca un número válido\")\n",
    "\n",
    "    "
   ]
  },
  {
   "cell_type": "markdown",
   "metadata": {},
   "source": [
    "## Ejercicio 8: Búsqueda en una lista anidada\n",
    "\n",
    "Escribe un programa que recorra una lista de listas y detenga la búsqueda cuando encuentre un valor mayor a 50.\n"
   ]
  },
  {
   "cell_type": "code",
   "execution_count": 41,
   "metadata": {},
   "outputs": [],
   "source": [
    "def busqueda(lista, num):\n",
    "    flag = 0\n",
    "    for i in range(len(lista)):\n",
    "        for j in range(len(lista[i])):\n",
    "            print(lista[i][j])\n",
    "            if lista[i][j] == num:\n",
    "                print(f'Encontrado el número: {lista[i][j]}')\n",
    "                flag=1\n",
    "                break\n",
    "        if flag == 1:\n",
    "            break"
   ]
  },
  {
   "cell_type": "code",
   "execution_count": 45,
   "metadata": {},
   "outputs": [
    {
     "name": "stdout",
     "output_type": "stream",
     "text": [
      "1\n",
      "2\n",
      "3\n",
      "4\n",
      "5\n",
      "50\n",
      "Encontrado el número: 50\n"
     ]
    }
   ],
   "source": [
    "lista = [[1,2], [3,4],[5,50],[6,60]]\n",
    "busqueda(lista, 50)"
   ]
  },
  {
   "cell_type": "markdown",
   "metadata": {},
   "source": [
    "## Ejercicio 9: Evaluación de series temporales\n",
    "\n",
    "Escribe un programa que recorra una lista de datos de series temporales y se detenga si encuentra un valor atípico (mayor a 100).\n"
   ]
  },
  {
   "cell_type": "code",
   "execution_count": null,
   "metadata": {},
   "outputs": [],
   "source": [
    "%pip install numpy"
   ]
  },
  {
   "cell_type": "code",
   "execution_count": 29,
   "metadata": {},
   "outputs": [
    {
     "name": "stdout",
     "output_type": "stream",
     "text": [
      "[36, 5, 116, 61, 129]\n",
      "36\n",
      "5\n",
      "116\n",
      "Valor atípico -> STOP\n"
     ]
    }
   ],
   "source": [
    "import numpy as np\n",
    "import random\n",
    "aleatorios = [random.randint(0,200) for _ in range(5)]\n",
    "print(aleatorios)\n",
    "for num in aleatorios:\n",
    "    print(num)\n",
    "    if num > 100:\n",
    "        print(\"Valor atípico -> STOP\")\n",
    "        break"
   ]
  },
  {
   "cell_type": "markdown",
   "metadata": {},
   "source": [
    "## Ejercicio 10: Iteración con valores faltantes\n",
    "\n",
    "Crea un bucle que recorra una lista de datos de ventas y salte los valores faltantes representados por `None`."
   ]
  },
  {
   "cell_type": "code",
   "execution_count": 30,
   "metadata": {},
   "outputs": [
    {
     "name": "stdout",
     "output_type": "stream",
     "text": [
      "Valor de la venta: 100 euros\n",
      "Valor de la venta: 50.99 euros\n",
      "Valor de la venta: 21 euros\n"
     ]
    }
   ],
   "source": [
    "ventas = [100, 50.99, None, 21]\n",
    "for venta in ventas:\n",
    "    if venta == None:\n",
    "        continue\n",
    "    else:\n",
    "        print(f'Valor de la venta: {venta} euros')\n"
   ]
  },
  {
   "cell_type": "markdown",
   "metadata": {},
   "source": [
    "## Ejercicio 11: Control de flujo en bucles anidados\n",
    "\n",
    "Escribe un bucle que recorra la matriz dada y se detenga si se encuentra un número negativo, mostrando su posición.\n",
    "\n"
   ]
  },
  {
   "cell_type": "code",
   "execution_count": 36,
   "metadata": {},
   "outputs": [
    {
     "name": "stdout",
     "output_type": "stream",
     "text": [
      "[[1, 4, 5], [5, 8, 9], [23, -5, 7]]\n",
      "Número negativo en la posición: 2,1\n"
     ]
    }
   ],
   "source": [
    "A = [[1,  4,  5],\n",
    "    [5,  8,  9],\n",
    "    [23,  -5,  7]]\n",
    "\n",
    "print(A)\n",
    "\n",
    "for i in range(len(A)):\n",
    "    for j in range(len(A[i])):\n",
    "        if A[i][j] < 0:\n",
    "            print(f'Número negativo en la posición: {i},{j}')\n",
    "            break\n"
   ]
  },
  {
   "cell_type": "markdown",
   "metadata": {},
   "source": [
    "## Ejercicio 12: Placeholder para funciones incompletas\n",
    "\n",
    "Escribe una función que tenga un bloque de control que aún no esté implementado, utilizando `pass` para que no genere errores."
   ]
  },
  {
   "cell_type": "code",
   "execution_count": 37,
   "metadata": {},
   "outputs": [],
   "source": [
    "def funcion_rara(lista):\n",
    "    for elem in lista:\n",
    "        if elem is None:\n",
    "            pass\n",
    "        else:\n",
    "            print(elem)"
   ]
  },
  {
   "cell_type": "code",
   "execution_count": 38,
   "metadata": {},
   "outputs": [
    {
     "name": "stdout",
     "output_type": "stream",
     "text": [
      "3\n",
      "Elena\n"
     ]
    }
   ],
   "source": [
    "funcion_rara([3, None, \"Elena\"])"
   ]
  },
  {
   "cell_type": "code",
   "execution_count": null,
   "metadata": {},
   "outputs": [],
   "source": []
  }
 ],
 "metadata": {
  "kernelspec": {
   "display_name": "contenido",
   "language": "python",
   "name": "python3"
  },
  "language_info": {
   "codemirror_mode": {
    "name": "ipython",
    "version": 3
   },
   "file_extension": ".py",
   "mimetype": "text/x-python",
   "name": "python",
   "nbconvert_exporter": "python",
   "pygments_lexer": "ipython3",
   "version": "3.12.4"
  }
 },
 "nbformat": 4,
 "nbformat_minor": 2
}
